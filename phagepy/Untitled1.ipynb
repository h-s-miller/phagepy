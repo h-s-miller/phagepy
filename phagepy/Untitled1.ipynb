{
 "cells": [
  {
   "cell_type": "code",
   "execution_count": 10,
   "id": "30464e8e-9e0e-42a4-a1e0-d2faee63fe54",
   "metadata": {},
   "outputs": [],
   "source": [
    "import matplotlib.pyplot as plt\n",
    "import matplotlib as mpl\n",
    "import numpy as np"
   ]
  },
  {
   "cell_type": "code",
   "execution_count": 22,
   "id": "6808645f-1bb3-4ee7-9d47-fbdb89003cc3",
   "metadata": {},
   "outputs": [
    {
     "name": "stderr",
     "output_type": "stream",
     "text": [
      "*c* argument looks like a single numeric RGB or RGBA sequence, which should be avoided as value-mapping will have precedence in case its length matches with *x* & *y*.  Please use the *color* keyword-argument or provide a 2D array with a single row if you intend to specify the same RGB or RGBA value for all points.\n",
      "*c* argument looks like a single numeric RGB or RGBA sequence, which should be avoided as value-mapping will have precedence in case its length matches with *x* & *y*.  Please use the *color* keyword-argument or provide a 2D array with a single row if you intend to specify the same RGB or RGBA value for all points.\n"
     ]
    },
    {
     "data": {
      "image/png": "[encoded data removed]",
      "text/plain": [
       "<Figure size 432x288 with 1 Axes>"
      ]
     },
     "metadata": {
      "needs_background": "light"
     },
     "output_type": "display_data"
    }
   ],
   "source": [
    "fig, ax =plt.subplots()\n",
    "ax.scatter(x=0, y=1, c=mpl.cm.Set1.colors[0])\n",
    "ax.scatter(x=1,y=1, c=mpl.cm.Set1.colors[2])\n",
    "plt.show()"
   ]
  },
  {
   "cell_type": "code",
   "execution_count": 25,
   "id": "f8916e6e-dd59-4eda-9862-65caf13a1572",
   "metadata": {},
   "outputs": [],
   "source": [
    "import matplotlib.pyplot as plt\n",
    "from sklearn.decomposition import PCA\n",
    "\n",
    "def PCA_samples_2D(adata, layer_='FC_over_AG', raw=False):\n",
    "    \"\"\"\n",
    "    runs PCA for visualization on samples\n",
    "    \n",
    "    input:  - adata: data object\n",
    "            - layer_: the layer of rpk counts to use to perform dim reduction\n",
    "                       - default='FC_over_AG', the fold-change transformed RPK counts\n",
    "            - raw: if True, then use raw RPK counts to perform dim reduction\n",
    "                       - default=False\n",
    "    output: - principalDF: dataframe w/ shape samplesx2, with coordinates of each     sample in principal component space\n",
    "    \"\"\"\n",
    "    pca = PCA(n_components=2)\n",
    "    if raw is True:\n",
    "        principalComponents = pca.fit_transform(adata.X)\n",
    "    else:\n",
    "        principalComponents = pca.fit_transform(adata.layers[layer_])\n",
    "\n",
    "    principalDf = pd.DataFrame(data = principalComponents\n",
    "             , columns = ['principal component 1', 'principal component 2'], index = adata.obs.index)\n",
    "    return principalDF\n",
    "\n",
    "def plot_PCA_samples_2D(adata, layer_='FC_over_AG', raw=False, obs_key=None, print_title=None,\n",
    "                       obs_colors=None, save=False, save_title=None, save_dir=None, \n",
    "                       zoom=False, zoom_xlim=None, zoom_ylim=None):\n",
    "    \"\"\"\n",
    "    Runs dimensionality reduction with PCA and visualizes samples in 2D PCA space.\n",
    "    \n",
    "    Input:  - adata: data object\n",
    "            - layer_: the layer of rpk counts to use to perform dim reduction\n",
    "                       - default='FC_over_AG', the fold-change transformed RPK counts\n",
    "            - raw: if True, then use raw RPK counts to perform dim reduction\n",
    "                       - default=False\n",
    "            - (optional) obs_key: if you want to color samples by a category, \n",
    "                                  obs_key is the category variable in the adata object\n",
    "                       - eg, obs_key='disease' w/ adata.obs['disease']=['healthy','disease']\n",
    "            - (optional) obs_colors: if you want to color samples by a category, \n",
    "                                     this provides the colors. needs to be a list or \n",
    "                                     dict of length equal to the num of category values\n",
    "                                     in the obs_key command\n",
    "                       - eg, obs_key='disease', obs_colors=['blue','red']\n",
    "            - save: boolean directing matplotlib to save the plot, default=False\n",
    "            - (optional) save_title: title for plot\n",
    "            - (optional) save_dir: path where plot is saved\n",
    "    Output: 2D plot of PCA, which is optionally saved\n",
    "    \n",
    "    \"\"\"\n",
    "    ## run the PCA ##\n",
    "    PCA_samples_2D(adata, layer_, raw)\n",
    "    \n",
    "    ## plot the PCA ## \n",
    "    fig = plt.figure(figsize = (8,8))\n",
    "    ax = fig.add_subplot(1,1,1) \n",
    "    ax.set_xlabel('Principal Component 1', fontsize = 15)\n",
    "    ax.set_ylabel('Principal Component 2', fontsize = 15)\n",
    "    \n",
    "    # if grouping\n",
    "    if obs_key:\n",
    "        targets = adata.obs[obs_key].values.unique()\n",
    "        \n",
    "        #make color dict if not passed\n",
    "        if not obs_colors: \n",
    "            n=len(targets)\n",
    "            colors=mpl.cm.Set1.colors[:n-1] # Set1 is default palette\n",
    "        else:\n",
    "            colors=obs_colors\n",
    "            \n",
    "        for target, color in zip(targets,colors):\n",
    "            indicesToKeep = adata.obs.index[adata.obs.sample_type == target]\n",
    "            ax.scatter(principalDf.loc[indicesToKeep, 'principal component 1'],\n",
    "                       principalDf.loc[indicesToKeep, 'principal component 2'],\n",
    "                       c = color,\n",
    "                       s = 50)\n",
    "        \n",
    "        ax.legend(targets)\n",
    "\n",
    "    #if not grouping\n",
    "    else:\n",
    "        ax.scatter(principalDf[:,'principal component 1'],\n",
    "                   principalDf[:,'principal component 2'], \n",
    "                  c = 'r',\n",
    "                  s= 50)\n",
    "    \n",
    "    # if zoom\n",
    "    if zoom:\n",
    "        ax.set_xlim(zoom_xlim)\n",
    "        ax.set_ylim(zoom_ylim)\n",
    "    \n",
    "    if print_title:\n",
    "        ax.set_title(print_title,fontsize=25)\n",
    "    \n",
    "    if save:\n",
    "        plt.savefig(save_dir+save_title)\n",
    "    \n",
    "    plt.show()"
   ]
  },
  {
   "cell_type": "code",
   "execution_count": 26,
   "id": "8dca5dc3-7536-4e41-a9f9-32bd4362e25d",
   "metadata": {},
   "outputs": [
    {
     "ename": "NameError",
     "evalue": "name 'adata' is not defined",
     "output_type": "error",
     "traceback": [
      "\u001b[0;31m---------------------------------------------------------------------------\u001b[0m",
      "\u001b[0;31mNameError\u001b[0m                                 Traceback (most recent call last)",
      "\u001b[0;32m/var/folders/70/t96qvy6n0z9985j9fbhk2dnc0000gn/T/ipykernel_53391/3563508178.py\u001b[0m in \u001b[0;36m<module>\u001b[0;34m\u001b[0m\n\u001b[0;32m----> 1\u001b[0;31m \u001b[0mPCA_samples_2D\u001b[0m\u001b[0;34m(\u001b[0m\u001b[0madata\u001b[0m\u001b[0;34m)\u001b[0m\u001b[0;34m\u001b[0m\u001b[0;34m\u001b[0m\u001b[0m\n\u001b[0m",
      "\u001b[0;31mNameError\u001b[0m: name 'adata' is not defined"
     ]
    }
   ],
   "source": [
    "PCA_samples_2D(adata)"
   ]
  }
 ],
 "metadata": {
  "kernelspec": {
   "display_name": "Python 3 (ipykernel)",
   "language": "python",
   "name": "python3"
  },
  "language_info": {
   "codemirror_mode": {
    "name": "ipython",
    "version": 3
   },
   "file_extension": ".py",
   "mimetype": "text/x-python",
   "name": "python",
   "nbconvert_exporter": "python",
   "pygments_lexer": "ipython3",
   "version": "3.9.7"
  }
 },
 "nbformat": 4,
 "nbformat_minor": 5
}

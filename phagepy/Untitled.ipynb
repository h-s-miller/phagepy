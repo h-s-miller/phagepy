{
 "cells": [
  {
   "cell_type": "code",
   "execution_count": 1,
   "id": "204407a2-2144-4f94-b1ba-f9f39979a457",
   "metadata": {},
   "outputs": [],
   "source": [
    "import phagepy as pp\n",
    "import numpy as np\n",
    "import scanpy as sc"
   ]
  },
  {
   "cell_type": "code",
   "execution_count": 2,
   "id": "6c976402-a894-495c-8e91-73f328d76af9",
   "metadata": {},
   "outputs": [],
   "source": [
    "counts='../test/test2.csv' # a 50 peptide x 5 obs count matrix (from mouseome)\n",
    "meta='../test/test2_meta.csv' # contains 3/5 of the samples in the count matrix\n",
    "adata=pp.create_anndata(counts, meta)"
   ]
  },
  {
   "cell_type": "code",
   "execution_count": 3,
   "id": "d4ee48cc-e118-4587-b5e0-7b574c4bba26",
   "metadata": {},
   "outputs": [
    {
     "data": {
      "text/plain": [
       "AnnData object with n_obs × n_vars = 8 × 6\n",
       "    obs: 'group', 'round', 'id'"
      ]
     },
     "execution_count": 3,
     "metadata": {},
     "output_type": "execute_result"
    }
   ],
   "source": [
    "adata"
   ]
  },
  {
   "cell_type": "code",
   "execution_count": 4,
   "id": "e67915e0-d439-45e3-9c0c-f7cfeb86b90e",
   "metadata": {},
   "outputs": [
    {
     "data": {
      "text/plain": [
       "array([[1. , 1. , 1. , 1. , 1. , 1. ],\n",
       "       [1. , 1. , 1. , 1. , 1. , 1. ],\n",
       "       [1. , 1. , 1. , 1. , 1. , 1. ],\n",
       "       [1. , 1. , 1. , 1. , 1. , 1. ],\n",
       "       [2. , 2. , 0.5, 2. , 1. , 4. ],\n",
       "       [2. , 2. , 0.5, 1. , 0.5, 4. ],\n",
       "       [2. , 2. , 0.5, 3. , 0.5, 4. ],\n",
       "       [2. , 2. , 0.5, 2. , 0. , 4. ]], dtype=float32)"
      ]
     },
     "execution_count": 4,
     "metadata": {},
     "output_type": "execute_result"
    }
   ],
   "source": [
    "adata.X"
   ]
  },
  {
   "cell_type": "code",
   "execution_count": 3,
   "id": "8186e000-ac5f-49d8-8010-3b6b5db90d0a",
   "metadata": {},
   "outputs": [],
   "source": []
  },
  {
   "cell_type": "code",
   "execution_count": 5,
   "id": "ee76aa27-6092-4b95-913d-84df8a0a2df5",
   "metadata": {},
   "outputs": [
    {
     "data": {
      "text/plain": [
       "AnnData object with n_obs × n_vars = 8 × 6\n",
       "    obs: 'group', 'round', 'id'\n",
       "    uns: 'control_ids'"
      ]
     },
     "execution_count": 5,
     "metadata": {},
     "output_type": "execute_result"
    }
   ],
   "source": [
    "adata=pp.define_ctrl_set(adata, obs_key='group', obs_value='MockIP')\n",
    "adata"
   ]
  },
  {
   "cell_type": "code",
   "execution_count": 6,
   "id": "ffda43f3-1978-4e41-8856-ab848b547fcb",
   "metadata": {},
   "outputs": [
    {
     "data": {
      "text/plain": [
       "View of AnnData object with n_obs × n_vars = 4 × 6\n",
       "    obs: 'group', 'round', 'id'\n",
       "    uns: 'control_ids'\n",
       "    varm: 'X_control'"
      ]
     },
     "execution_count": 6,
     "metadata": {},
     "output_type": "execute_result"
    }
   ],
   "source": [
    "adata=pp.filter_out_ctrl_set(adata)\n",
    "adata"
   ]
  },
  {
   "cell_type": "code",
   "execution_count": 7,
   "id": "b374e49b-7fc4-4719-a087-583e57c15666",
   "metadata": {},
   "outputs": [
    {
     "data": {
      "text/plain": [
       "ArrayView([[2. , 2. , 2. , 2. ],\n",
       "           [2. , 2. , 2. , 2. ],\n",
       "           [0.5, 0.5, 0.5, 0.5],\n",
       "           [2. , 1. , 3. , 2. ],\n",
       "           [1. , 0.5, 0.5, 0. ],\n",
       "           [4. , 4. , 4. , 4. ]], dtype=float32)"
      ]
     },
     "execution_count": 7,
     "metadata": {},
     "output_type": "execute_result"
    }
   ],
   "source": [
    "adata.varm['X_control']"
   ]
  },
  {
   "cell_type": "code",
   "execution_count": 8,
   "id": "2b8fa0e7-93ba-4625-998e-d7b0c9bbbfeb",
   "metadata": {},
   "outputs": [],
   "source": [
    "adata.obsm['FC_over_AG']=pp.peptide_fold_change(adata)"
   ]
  },
  {
   "cell_type": "code",
   "execution_count": 10,
   "id": "abb1b362-70da-48bb-b023-b2b13a900667",
   "metadata": {},
   "outputs": [
    {
     "data": {
      "text/plain": [
       "ArrayView([2., 2., 8., 2., 8., 1.], dtype=float32)"
      ]
     },
     "execution_count": 10,
     "metadata": {},
     "output_type": "execute_result"
    }
   ],
   "source": [
    "adata.obsm['FC_over_AG'].sum(axis=0)"
   ]
  },
  {
   "cell_type": "code",
   "execution_count": 13,
   "id": "ac940bd4-5d1a-461d-825b-73fc12688db6",
   "metadata": {},
   "outputs": [],
   "source": [
    "scaling=pp.compute_scaling_factor(adata, n=2)"
   ]
  },
  {
   "cell_type": "code",
   "execution_count": 14,
   "id": "d4c0af61-6cb8-4321-a446-e4c423a1c11c",
   "metadata": {},
   "outputs": [
    {
     "data": {
      "text/plain": [
       "array([2., 2., 2., 2.], dtype=float32)"
      ]
     },
     "execution_count": 14,
     "metadata": {},
     "output_type": "execute_result"
    }
   ],
   "source": [
    "scaling"
   ]
  },
  {
   "cell_type": "code",
   "execution_count": null,
   "id": "a7c01e04-a788-4864-abf9-d6da1cf1cd07",
   "metadata": {},
   "outputs": [],
   "source": []
  }
 ],
 "metadata": {
  "kernelspec": {
   "display_name": "Python 3 (ipykernel)",
   "language": "python",
   "name": "python3"
  },
  "language_info": {
   "codemirror_mode": {
    "name": "ipython",
    "version": 3
   },
   "file_extension": ".py",
   "mimetype": "text/x-python",
   "name": "python",
   "nbconvert_exporter": "python",
   "pygments_lexer": "ipython3",
   "version": "3.9.7"
  }
 },
 "nbformat": 4,
 "nbformat_minor": 5
}

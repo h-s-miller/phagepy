{
 "cells": [
  {
   "cell_type": "code",
   "execution_count": 1,
   "id": "e2a8b0a6-a822-4868-87d7-2da02c53da13",
   "metadata": {},
   "outputs": [],
   "source": [
    "import phagepy as pp\n",
    "import numpy as np\n",
    "import scanpy as sc"
   ]
  },
  {
   "cell_type": "code",
   "execution_count": 27,
   "id": "765774d8-cbb5-4b2f-bc65-85ef02edd8be",
   "metadata": {},
   "outputs": [],
   "source": [
    "counts='test_counts.csv' # a 50 peptide x 5 obs count matrix (from mouseome)\n",
    "meta='test_meta.csv' # contains 3/5 of the samples in the count matrix\n",
    "adata=pp.create_anndata(counts, meta)"
   ]
  },
  {
   "cell_type": "code",
   "execution_count": 18,
   "id": "e9b421ef-2036-44a1-8600-53609c63206e",
   "metadata": {},
   "outputs": [
    {
     "data": {
      "text/plain": [
       "AnnData object with n_obs × n_vars = 3 × 50\n",
       "    obs: 'Group', 'Round', 'Barcode', 'Placeholder', 'PregGroup', 'Embryonic_day', 'Cross', 'Adjuvant', 'OT2', 'cOVA', 'Genotype'"
      ]
     },
     "execution_count": 18,
     "metadata": {},
     "output_type": "execute_result"
    }
   ],
   "source": [
    "adata"
   ]
  },
  {
   "cell_type": "code",
   "execution_count": null,
   "id": "46f8152b-1688-42b2-9338-1ffeb349d3a8",
   "metadata": {},
   "outputs": [],
   "source": []
  },
  {
   "cell_type": "code",
   "execution_count": 8,
   "id": "36c17788-740c-4ca8-81bd-92836f3ca3e9",
   "metadata": {},
   "outputs": [
    {
     "data": {
      "text/plain": [
       "View of AnnData object with n_obs × n_vars = 1 × 50\n",
       "    obs: 'Group', 'Round', 'Barcode', 'Placeholder', 'PregGroup', 'Embryonic_day', 'Cross', 'Adjuvant', 'OT2', 'cOVA', 'Genotype'\n",
       "    uns: 'control_keys'"
      ]
     },
     "execution_count": 8,
     "metadata": {},
     "output_type": "execute_result"
    }
   ],
   "source": [
    "ctrl_ids=['AG9_R3_Demux2_S248_R1_001','B6_10C_R3_Demux2_S282_R1_001']\n",
    "\n",
    "# need to define control first\n",
    "adata.uns['control_keys']=ctrl_ids # normally define_ctrl_set() fxn would do this, but i picked arbitrary obs to be ctrl for test\n",
    "adata=pp.filter_out_ctrl_set(adata)\n",
    "adata"
   ]
  },
  {
   "cell_type": "code",
   "execution_count": 14,
   "id": "1e192c94-9b96-4bcc-b34e-bc87535da77c",
   "metadata": {},
   "outputs": [],
   "source": [
    "ctrl_ids=['AG9_R3_Demux2_S248_R1_001','B6_10C_R3_Demux2_S282_R1_001']\n"
   ]
  },
  {
   "cell_type": "code",
   "execution_count": 16,
   "id": "90fc32aa-3b10-472c-b983-6d10acc144ec",
   "metadata": {},
   "outputs": [],
   "source": [
    "adata.varm['control_counts']=adata[ctrl_ids,:].X.T"
   ]
  },
  {
   "cell_type": "code",
   "execution_count": 19,
   "id": "eed71a36-8d7c-4af5-b105-ac748d53ee85",
   "metadata": {},
   "outputs": [
    {
     "data": {
      "text/html": [
       "<div>\n",
       "<style scoped>\n",
       "    .dataframe tbody tr th:only-of-type {\n",
       "        vertical-align: middle;\n",
       "    }\n",
       "\n",
       "    .dataframe tbody tr th {\n",
       "        vertical-align: top;\n",
       "    }\n",
       "\n",
       "    .dataframe thead th {\n",
       "        text-align: right;\n",
       "    }\n",
       "</style>\n",
       "<table border=\"1\" class=\"dataframe\">\n",
       "  <thead>\n",
       "    <tr style=\"text-align: right;\">\n",
       "      <th></th>\n",
       "      <th>Group</th>\n",
       "      <th>Round</th>\n",
       "      <th>Barcode</th>\n",
       "      <th>Placeholder</th>\n",
       "      <th>PregGroup</th>\n",
       "      <th>Embryonic_day</th>\n",
       "      <th>Cross</th>\n",
       "      <th>Adjuvant</th>\n",
       "      <th>OT2</th>\n",
       "      <th>cOVA</th>\n",
       "      <th>Genotype</th>\n",
       "    </tr>\n",
       "  </thead>\n",
       "  <tbody>\n",
       "    <tr>\n",
       "      <th>AG9_R3_Demux2_S248_R1_001</th>\n",
       "      <td>MockIP</td>\n",
       "      <td>3</td>\n",
       "      <td>AG9</td>\n",
       "      <td>NaN</td>\n",
       "      <td>NaN</td>\n",
       "      <td>NaN</td>\n",
       "      <td>NaN</td>\n",
       "      <td>NaN</td>\n",
       "      <td>NaN</td>\n",
       "      <td>NaN</td>\n",
       "      <td>AG</td>\n",
       "    </tr>\n",
       "    <tr>\n",
       "      <th>B6_10B_R3_Demux2_S273_R1_001</th>\n",
       "      <td>Pregnancy</td>\n",
       "      <td>3</td>\n",
       "      <td>B6_10</td>\n",
       "      <td>B</td>\n",
       "      <td>B6_mOVA_OT2</td>\n",
       "      <td>6.5</td>\n",
       "      <td>B6_mOVA</td>\n",
       "      <td>No</td>\n",
       "      <td>Yes</td>\n",
       "      <td>No</td>\n",
       "      <td>B6</td>\n",
       "    </tr>\n",
       "    <tr>\n",
       "      <th>B6_10C_R3_Demux2_S282_R1_001</th>\n",
       "      <td>Pregnancy</td>\n",
       "      <td>3</td>\n",
       "      <td>B6_10</td>\n",
       "      <td>C</td>\n",
       "      <td>B6_mOVA_OT2</td>\n",
       "      <td>18.5</td>\n",
       "      <td>B6_mOVA</td>\n",
       "      <td>No</td>\n",
       "      <td>Yes</td>\n",
       "      <td>No</td>\n",
       "      <td>B6</td>\n",
       "    </tr>\n",
       "  </tbody>\n",
       "</table>\n",
       "</div>"
      ],
      "text/plain": [
       "                                  Group  Round Barcode Placeholder  \\\n",
       "AG9_R3_Demux2_S248_R1_001        MockIP      3     AG9         NaN   \n",
       "B6_10B_R3_Demux2_S273_R1_001  Pregnancy      3   B6_10           B   \n",
       "B6_10C_R3_Demux2_S282_R1_001  Pregnancy      3   B6_10           C   \n",
       "\n",
       "                                PregGroup  Embryonic_day    Cross Adjuvant  \\\n",
       "AG9_R3_Demux2_S248_R1_001             NaN            NaN      NaN      NaN   \n",
       "B6_10B_R3_Demux2_S273_R1_001  B6_mOVA_OT2            6.5  B6_mOVA       No   \n",
       "B6_10C_R3_Demux2_S282_R1_001  B6_mOVA_OT2           18.5  B6_mOVA       No   \n",
       "\n",
       "                              OT2 cOVA Genotype  \n",
       "AG9_R3_Demux2_S248_R1_001     NaN  NaN       AG  \n",
       "B6_10B_R3_Demux2_S273_R1_001  Yes   No       B6  \n",
       "B6_10C_R3_Demux2_S282_R1_001  Yes   No       B6  "
      ]
     },
     "execution_count": 19,
     "metadata": {},
     "output_type": "execute_result"
    }
   ],
   "source": [
    "adata.obs"
   ]
  },
  {
   "cell_type": "code",
   "execution_count": 23,
   "id": "53edca35-d60d-49f6-8555-5f9a81be447e",
   "metadata": {},
   "outputs": [],
   "source": [
    "\n",
    "def define_ctrl_set(ad, obs_key, obs_value, key_ids='control_ids'):\n",
    "    # find obs names of control observations\n",
    "    control_locs=ad.obs.index[ad.obs[obs_key]==obs_value]\n",
    "\n",
    "    # add as unstructured annotation (uns) of adata object\n",
    "    # accessible as adata.uns['control_keys']=control_locs\n",
    "    ad.uns[key_ids]=control_locs\n",
    "    return ad\n",
    "\n",
    "def filter_out_ctrl_set(ad, key_ids='control_ids', key_X='X_control'):\n",
    "    try:\n",
    "        ad.uns[key_ids]\n",
    "    except NameError:\n",
    "        raise ValueError('Need to define control set first')\n",
    "\n",
    "    ad.varm[key_X]=ad[ad.uns[key_ids],:].X.T\n",
    "\n",
    "    ad=ad[~ad.obs.index.isin(ad.uns[key_ids])]\n",
    "    return ad"
   ]
  },
  {
   "cell_type": "code",
   "execution_count": 28,
   "id": "9a3db043-fccc-4bb1-8e9e-d815c044bc29",
   "metadata": {},
   "outputs": [
    {
     "data": {
      "text/plain": [
       "AnnData object with n_obs × n_vars = 3 × 50\n",
       "    obs: 'Group', 'Round', 'Barcode', 'Placeholder', 'PregGroup', 'Embryonic_day', 'Cross', 'Adjuvant', 'OT2', 'cOVA', 'Genotype'\n",
       "    uns: 'MockIP_ids'"
      ]
     },
     "execution_count": 28,
     "metadata": {},
     "output_type": "execute_result"
    }
   ],
   "source": [
    "adata=define_ctrl_set(adata, 'Group', 'MockIP',key_ids='MockIP_ids')\n",
    "adata"
   ]
  },
  {
   "cell_type": "code",
   "execution_count": 29,
   "id": "c6079b84-1f6c-42d4-88cb-92eba70ef4bb",
   "metadata": {},
   "outputs": [
    {
     "data": {
      "text/plain": [
       "View of AnnData object with n_obs × n_vars = 2 × 50\n",
       "    obs: 'Group', 'Round', 'Barcode', 'Placeholder', 'PregGroup', 'Embryonic_day', 'Cross', 'Adjuvant', 'OT2', 'cOVA', 'Genotype'\n",
       "    uns: 'MockIP_ids'\n",
       "    varm: 'X_MockIP'"
      ]
     },
     "execution_count": 29,
     "metadata": {},
     "output_type": "execute_result"
    }
   ],
   "source": [
    "adata=filter_out_ctrl_set(adata,key_ids='MockIP_ids', key_X='X_MockIP')\n",
    "adata"
   ]
  },
  {
   "cell_type": "code",
   "execution_count": 25,
   "id": "043db6f3-e880-4acb-8f77-1974f844966a",
   "metadata": {},
   "outputs": [
    {
     "data": {
      "text/plain": [
       "(50, 1)"
      ]
     },
     "execution_count": 25,
     "metadata": {},
     "output_type": "execute_result"
    }
   ],
   "source": [
    "adata.varm['X_control'].shape"
   ]
  }
 ],
 "metadata": {
  "kernelspec": {
   "display_name": "Python 3 (ipykernel)",
   "language": "python",
   "name": "python3"
  },
  "language_info": {
   "codemirror_mode": {
    "name": "ipython",
    "version": 3
   },
   "file_extension": ".py",
   "mimetype": "text/x-python",
   "name": "python",
   "nbconvert_exporter": "python",
   "pygments_lexer": "ipython3",
   "version": "3.9.7"
  }
 },
 "nbformat": 4,
 "nbformat_minor": 5
}

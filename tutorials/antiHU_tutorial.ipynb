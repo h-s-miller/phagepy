{
 "cells": [
  {
   "cell_type": "markdown",
   "id": "6c457b71-3877-4ca6-bce6-d7e2995a8e91",
   "metadata": {},
   "source": [
    "# Preprocessing and analysis of PhIP-seq data to discover Anti-HU \n",
    "\n",
    "In this tutorial, you will learn how to analyze phip-seq data with PhagePy. The data used in this tutorial is from the paper [High-resolution epitope mapping of anti-Hu and anti-Yo autoimmunity by programmable phage display](https://academic.oup.com/braincomms/article/2/2/fcaa059/5843781#206277565)."
   ]
  },
  {
   "cell_type": "markdown",
   "id": "ce8ccf89-7ae0-4642-8a32-a767daaf55b3",
   "metadata": {},
   "source": [
    "## Loading phagepy "
   ]
  },
  {
   "cell_type": "code",
   "execution_count": 2,
   "id": "e067e77e-2c92-4668-9bab-371723494765",
   "metadata": {},
   "outputs": [],
   "source": [
    "import numpy as np\n",
    "import pandas as pd\n",
    "#from array import array\n",
    "#from statsmodels.stats.multitest import multipletests\n",
    "import matplotlib.pyplot as plt\n",
    "%matplotlib inline\n",
    "import seaborn as sns\n",
    "import anndata as ad\n",
    "import phagepy as pp\n",
    "import scanpy as sc"
   ]
  },
  {
   "cell_type": "markdown",
   "id": "ed35ebab-c7ed-408b-998c-910d5173f415",
   "metadata": {},
   "source": [
    "# Preprocessing"
   ]
  },
  {
   "cell_type": "markdown",
   "id": "745924e1-a48b-40ed-be17-c3259797f06e",
   "metadata": {
    "tags": []
   },
   "source": [
    "## Reading in data\n",
    "### data structure\n",
    "Phagepy uses the [anndata](https://anndata.readthedocs.io/en/latest/) data structure to store metadata, sequencing counts, and gene annotation information in one object. Reading this documentation will be very helpful to understanding how to manipulate adata objects for this analysis! \n",
    "### how to load the data\n",
    "Phagepy has a command, `create_anndata()` to load metadata and sequencing counts into an anndata object. `create_anndata()` has 3 parameters:\n",
    "1. `counts_file`: a csv file with counts for each sample in rpk. \n",
    "2. `metadata_file`: a metadata file with annotations for each sample\n",
    "    1. **note**: the sample ids in the first column of the metadata file **must** match the sample ids in the counts file\n",
    "3.`transpose`(default=True): a boolean parameter.\n",
    "    1. if your input counts file is (peptides)x(samples), then `transpose` should be set to True. Note: this is how data downloaded from PhageDB is formatted. \n",
    "    2. if your input counts file is (samples)x(peptides), then `transpose` should be set to True."
   ]
  },
  {
   "cell_type": "code",
   "execution_count": 3,
   "id": "5249e761-b5a5-4190-8a6d-39d86afbb41e",
   "metadata": {},
   "outputs": [],
   "source": [
    "counts='antihu_counts.csv'\n",
    "meta='antihu_metadata.csv'\n",
    "adata=pp.create_anndata(counts, meta)"
   ]
  },
  {
   "cell_type": "markdown",
   "id": "f8ba2f87-9003-4622-bc98-5cf680c3f380",
   "metadata": {},
   "source": [
    "### How to manipulate the adata object"
   ]
  },
  {
   "cell_type": "markdown",
   "id": "7f27bc25-46a6-405d-91e7-dafd8a3d303d",
   "metadata": {},
   "source": [
    "The `adata` object is of shape (samples)x(peptides):"
   ]
  },
  {
   "cell_type": "code",
   "execution_count": 4,
   "id": "4748d298-623f-41e7-8fbc-273d8894c739",
   "metadata": {},
   "outputs": [
    {
     "data": {
      "text/plain": [
       "AnnData object with n_obs × n_vars = 10 × 731724\n",
       "    obs: 'IProunds', 'sick', 'healthy', 'study', 'fluid', 'experimenter', 'group', 'ng_input', 'notes'"
      ]
     },
     "execution_count": 4,
     "metadata": {},
     "output_type": "execute_result"
    }
   ],
   "source": [
    "adata"
   ]
  },
  {
   "cell_type": "markdown",
   "id": "32875228-18d3-474b-ac18-bdf6a12eb5a3",
   "metadata": {},
   "source": [
    "Counts are stored in `adata.X`:"
   ]
  },
  {
   "cell_type": "code",
   "execution_count": 5,
   "id": "700355a9-0cc3-4a01-aef3-87e74033a83b",
   "metadata": {},
   "outputs": [
    {
     "data": {
      "text/plain": [
       "array([[0.        , 0.        , 0.        , 0.        , 0.        ,\n",
       "        0.        , 0.        , 0.        , 0.        , 0.        ],\n",
       "       [0.        , 0.        , 0.        , 0.        , 0.        ,\n",
       "        0.        , 0.        , 0.        , 0.        , 0.        ],\n",
       "       [0.        , 0.        , 0.        , 0.        , 0.23583181,\n",
       "        0.        , 0.        , 0.        , 0.        , 0.78610605],\n",
       "       [0.        , 0.        , 0.        , 0.        , 0.        ,\n",
       "        0.5092825 , 0.        , 0.        , 0.        , 0.        ]],\n",
       "      dtype=float32)"
      ]
     },
     "execution_count": 5,
     "metadata": {},
     "output_type": "execute_result"
    }
   ],
   "source": [
    "adata.X[:4,:10]"
   ]
  },
  {
   "cell_type": "markdown",
   "id": "55e47872-360d-4d91-aa59-e84c8bd3b00a",
   "metadata": {},
   "source": [
    "Metadata is stored in `adata.obs`"
   ]
  },
  {
   "cell_type": "code",
   "execution_count": 6,
   "id": "47fcafb4-9880-4e0b-8b7d-c9749b5981b7",
   "metadata": {},
   "outputs": [
    {
     "data": {
      "text/html": [
       "<div>\n",
       "<style scoped>\n",
       "    .dataframe tbody tr th:only-of-type {\n",
       "        vertical-align: middle;\n",
       "    }\n",
       "\n",
       "    .dataframe tbody tr th {\n",
       "        vertical-align: top;\n",
       "    }\n",
       "\n",
       "    .dataframe thead th {\n",
       "        text-align: right;\n",
       "    }\n",
       "</style>\n",
       "<table border=\"1\" class=\"dataframe\">\n",
       "  <thead>\n",
       "    <tr style=\"text-align: right;\">\n",
       "      <th></th>\n",
       "      <th>IProunds</th>\n",
       "      <th>sick</th>\n",
       "      <th>healthy</th>\n",
       "      <th>study</th>\n",
       "      <th>fluid</th>\n",
       "      <th>experimenter</th>\n",
       "      <th>group</th>\n",
       "      <th>ng_input</th>\n",
       "      <th>notes</th>\n",
       "    </tr>\n",
       "  </thead>\n",
       "  <tbody>\n",
       "    <tr>\n",
       "      <th>CMB-NID-624_S4_L001_R1_001</th>\n",
       "      <td>2</td>\n",
       "      <td>no</td>\n",
       "      <td>NaN</td>\n",
       "      <td>NID</td>\n",
       "      <td>CSF</td>\n",
       "      <td>CMB</td>\n",
       "      <td>HU</td>\n",
       "      <td>NaN</td>\n",
       "      <td>NaN</td>\n",
       "    </tr>\n",
       "    <tr>\n",
       "      <th>NID-624_S8_L001_R1_001</th>\n",
       "      <td>2</td>\n",
       "      <td>no</td>\n",
       "      <td>NaN</td>\n",
       "      <td>NID</td>\n",
       "      <td>CSF</td>\n",
       "      <td>CMB</td>\n",
       "      <td>HU</td>\n",
       "      <td>NaN</td>\n",
       "      <td>NaN</td>\n",
       "    </tr>\n",
       "    <tr>\n",
       "      <th>NID_624_CSF_2_rnd3_S34_L005_R1_001</th>\n",
       "      <td>3</td>\n",
       "      <td>no</td>\n",
       "      <td>NaN</td>\n",
       "      <td>NID</td>\n",
       "      <td>CSF</td>\n",
       "      <td>CMB</td>\n",
       "      <td>HU</td>\n",
       "      <td>NaN</td>\n",
       "      <td>NaN</td>\n",
       "    </tr>\n",
       "    <tr>\n",
       "      <th>NID_624_CSF_rnd3_S33_L005_R1_001</th>\n",
       "      <td>3</td>\n",
       "      <td>no</td>\n",
       "      <td>NaN</td>\n",
       "      <td>NID</td>\n",
       "      <td>CSF</td>\n",
       "      <td>CMB</td>\n",
       "      <td>HU</td>\n",
       "      <td>NaN</td>\n",
       "      <td>NaN</td>\n",
       "    </tr>\n",
       "    <tr>\n",
       "      <th>01112017-1-AG_S1_L001_R1_001</th>\n",
       "      <td>2</td>\n",
       "      <td>no</td>\n",
       "      <td>NaN</td>\n",
       "      <td>NID</td>\n",
       "      <td>NaN</td>\n",
       "      <td>CMB</td>\n",
       "      <td>AG</td>\n",
       "      <td>NaN</td>\n",
       "      <td>NaN</td>\n",
       "    </tr>\n",
       "    <tr>\n",
       "      <th>09052017-13-AG2rounds_S13_L001_R1_001</th>\n",
       "      <td>2</td>\n",
       "      <td>no</td>\n",
       "      <td>NaN</td>\n",
       "      <td>NID</td>\n",
       "      <td>NaN</td>\n",
       "      <td>CMB</td>\n",
       "      <td>AG</td>\n",
       "      <td>NaN</td>\n",
       "      <td>NaN</td>\n",
       "    </tr>\n",
       "    <tr>\n",
       "      <th>080517-GFAP_S7_L001_R1_001</th>\n",
       "      <td>2</td>\n",
       "      <td>no</td>\n",
       "      <td>NaN</td>\n",
       "      <td>NID</td>\n",
       "      <td>NaN</td>\n",
       "      <td>CMB</td>\n",
       "      <td>GFAP</td>\n",
       "      <td>NaN</td>\n",
       "      <td>NaN</td>\n",
       "    </tr>\n",
       "    <tr>\n",
       "      <th>080617-GFAP_S4_L001_R1_001</th>\n",
       "      <td>2</td>\n",
       "      <td>no</td>\n",
       "      <td>NaN</td>\n",
       "      <td>NID</td>\n",
       "      <td>NaN</td>\n",
       "      <td>CMB</td>\n",
       "      <td>GFAP</td>\n",
       "      <td>NaN</td>\n",
       "      <td>NaN</td>\n",
       "    </tr>\n",
       "    <tr>\n",
       "      <th>CMB-GFAP_S10_L001_R1_001</th>\n",
       "      <td>2</td>\n",
       "      <td>no</td>\n",
       "      <td>NaN</td>\n",
       "      <td>NID</td>\n",
       "      <td>NaN</td>\n",
       "      <td>CMB</td>\n",
       "      <td>GFAP</td>\n",
       "      <td>NaN</td>\n",
       "      <td>NaN</td>\n",
       "    </tr>\n",
       "    <tr>\n",
       "      <th>030817-A6-TUB_S6_L001_R1_001</th>\n",
       "      <td>2</td>\n",
       "      <td>no</td>\n",
       "      <td>NaN</td>\n",
       "      <td>NID</td>\n",
       "      <td>NaN</td>\n",
       "      <td>CMB</td>\n",
       "      <td>TUB</td>\n",
       "      <td>NaN</td>\n",
       "      <td>NaN</td>\n",
       "    </tr>\n",
       "  </tbody>\n",
       "</table>\n",
       "</div>"
      ],
      "text/plain": [
       "                                       IProunds sick  healthy study fluid  \\\n",
       "CMB-NID-624_S4_L001_R1_001                    2   no      NaN   NID   CSF   \n",
       "NID-624_S8_L001_R1_001                        2   no      NaN   NID   CSF   \n",
       "NID_624_CSF_2_rnd3_S34_L005_R1_001            3   no      NaN   NID   CSF   \n",
       "NID_624_CSF_rnd3_S33_L005_R1_001              3   no      NaN   NID   CSF   \n",
       "01112017-1-AG_S1_L001_R1_001                  2   no      NaN   NID   NaN   \n",
       "09052017-13-AG2rounds_S13_L001_R1_001         2   no      NaN   NID   NaN   \n",
       "080517-GFAP_S7_L001_R1_001                    2   no      NaN   NID   NaN   \n",
       "080617-GFAP_S4_L001_R1_001                    2   no      NaN   NID   NaN   \n",
       "CMB-GFAP_S10_L001_R1_001                      2   no      NaN   NID   NaN   \n",
       "030817-A6-TUB_S6_L001_R1_001                  2   no      NaN   NID   NaN   \n",
       "\n",
       "                                      experimenter group  ng_input  notes  \n",
       "CMB-NID-624_S4_L001_R1_001                     CMB    HU       NaN    NaN  \n",
       "NID-624_S8_L001_R1_001                         CMB    HU       NaN    NaN  \n",
       "NID_624_CSF_2_rnd3_S34_L005_R1_001             CMB    HU       NaN    NaN  \n",
       "NID_624_CSF_rnd3_S33_L005_R1_001               CMB    HU       NaN    NaN  \n",
       "01112017-1-AG_S1_L001_R1_001                   CMB    AG       NaN    NaN  \n",
       "09052017-13-AG2rounds_S13_L001_R1_001          CMB    AG       NaN    NaN  \n",
       "080517-GFAP_S7_L001_R1_001                     CMB  GFAP       NaN    NaN  \n",
       "080617-GFAP_S4_L001_R1_001                     CMB  GFAP       NaN    NaN  \n",
       "CMB-GFAP_S10_L001_R1_001                       CMB  GFAP       NaN    NaN  \n",
       "030817-A6-TUB_S6_L001_R1_001                   CMB   TUB       NaN    NaN  "
      ]
     },
     "execution_count": 6,
     "metadata": {},
     "output_type": "execute_result"
    }
   ],
   "source": [
    "adata.obs"
   ]
  },
  {
   "cell_type": "markdown",
   "id": "a4021dfb-8ddd-43e5-b5b9-c0acdaf321ed",
   "metadata": {},
   "source": [
    "you can take subsets of the data by filtering on `adata.obs` values:"
   ]
  },
  {
   "cell_type": "code",
   "execution_count": 7,
   "id": "2737eb2c-6db9-4865-a4f7-177698bc510e",
   "metadata": {},
   "outputs": [
    {
     "data": {
      "text/plain": [
       "View of AnnData object with n_obs × n_vars = 2 × 731724\n",
       "    obs: 'IProunds', 'sick', 'healthy', 'study', 'fluid', 'experimenter', 'group', 'ng_input', 'notes'"
      ]
     },
     "execution_count": 7,
     "metadata": {},
     "output_type": "execute_result"
    }
   ],
   "source": [
    "adata[adata.obs.group=='AG']"
   ]
  },
  {
   "cell_type": "markdown",
   "id": "72bb8ceb-8096-40ef-9a66-b0f018ad2854",
   "metadata": {},
   "source": [
    "## Pseudocount\n",
    "phagepy uses pseudocounted rpk values for analysis, to avoid pesky zeros :)"
   ]
  },
  {
   "cell_type": "code",
   "execution_count": 8,
   "id": "2ceb7598-9778-43f0-96a3-de1af81c5d74",
   "metadata": {},
   "outputs": [],
   "source": [
    "adata.X=adata.X+1"
   ]
  },
  {
   "cell_type": "markdown",
   "id": "1c947654-32d6-4ff6-9f0b-712dc7e3b430",
   "metadata": {},
   "source": [
    "## Define the control group\n",
    "\n",
    "In phagepy, data are normalized to a **control group**, which is usually a group of Mock IP samples. This group of samples is used to define the background noise of the experiment. \n",
    "\n",
    "To define the control group, run the command `define_ctrl_set()`, which has the following parameters \n",
    "- `obs_key`: the column of the metadata which defines the categories of samples\n",
    "- `obs_value`: the category of samples from the above column we wish to define the control group\n",
    "- (optional)`key_ids`(default='control_ids'): provides the key to access the control ids in the adata object. \n",
    "\n",
    "So, for example, in this dataset `obs_key='group'` and `obs_value='AG'`\n",
    "\n",
    "`define_ctrl_set()` returns an adata object with `adata.uns['control_ids']`(or other `key_ids` value if using non-default) holding the sample ids of control samples."
   ]
  },
  {
   "cell_type": "code",
   "execution_count": 9,
   "id": "6dc9d1db-a724-4adb-907c-c6f669201c01",
   "metadata": {},
   "outputs": [
    {
     "data": {
      "text/plain": [
       "AnnData object with n_obs × n_vars = 10 × 731724\n",
       "    obs: 'IProunds', 'sick', 'healthy', 'study', 'fluid', 'experimenter', 'group', 'ng_input', 'notes'\n",
       "    uns: 'control_ids'"
      ]
     },
     "execution_count": 9,
     "metadata": {},
     "output_type": "execute_result"
    }
   ],
   "source": [
    "adata=pp.define_ctrl_set(adata, obs_key='group', obs_value='AG')\n",
    "adata"
   ]
  },
  {
   "cell_type": "markdown",
   "id": "3a3f93e4-d484-49cc-ab78-ee906a413b68",
   "metadata": {},
   "source": [
    "## Filter out control group\n",
    "After defining the control group, we can then filter it out of our main adata object. Even though we filter it out of the main adata object, **it is still accessible!**\n",
    "\n",
    "To filter out the control group, use the command `filter_out_ctrl_set`, which has the following **optional** parameters: \n",
    "- `key_ids`(default='control_ids'): only set this parameter if you changed the `key_ids` param in `define_ctrl_set()`\n",
    "- `key_X`(default='X_control'): provides the key to access the count data of the control samples"
   ]
  },
  {
   "cell_type": "code",
   "execution_count": 10,
   "id": "219e77fb-665f-4adb-8918-75418904a4ed",
   "metadata": {},
   "outputs": [
    {
     "data": {
      "text/plain": [
       "View of AnnData object with n_obs × n_vars = 8 × 731724\n",
       "    obs: 'IProunds', 'sick', 'healthy', 'study', 'fluid', 'experimenter', 'group', 'ng_input', 'notes'\n",
       "    uns: 'control_ids'\n",
       "    varm: 'X_control'"
      ]
     },
     "execution_count": 10,
     "metadata": {},
     "output_type": "execute_result"
    }
   ],
   "source": [
    "adata=pp.filter_out_ctrl_set(adata)\n",
    "adata"
   ]
  },
  {
   "cell_type": "markdown",
   "id": "a79cdf85-ed5a-49ca-9988-262e710c0344",
   "metadata": {},
   "source": [
    "## Calculate enrichment over controls \n",
    "\n",
    "To normalize our samples against the background, we can calculate enrichment over the AG-bead background. \n",
    "\n",
    "To do this, we run `peptide_fold_change` which calculates fold-change enrichment over the expected rpk for each peptide in the control group. Expected rpk can be defined as the median or average of the peptide expression in the control group, and users can choose which metric to define the expected rpk using the `metric` parameter (default='median')"
   ]
  },
  {
   "cell_type": "code",
   "execution_count": 11,
   "id": "69952516-bb55-4a36-8249-20ce18fc0fd2",
   "metadata": {},
   "outputs": [],
   "source": [
    "adata.layers['FC_over_AG']=pd.DataFrame(data=pp.peptide_fold_change(adata),\n",
    "                                   index=adata.obs.index,\n",
    "                                   columns=adata.var.index)"
   ]
  },
  {
   "cell_type": "markdown",
   "id": "8d450a8c-5ed7-4e3b-bfc4-b93a0b749328",
   "metadata": {},
   "source": [
    "## scaling....eh"
   ]
  },
  {
   "cell_type": "markdown",
   "id": "cef26120-3ad9-4f9a-a58d-fcd7a5d653b3",
   "metadata": {},
   "source": [
    "## Filtering out low-count peptides \n",
    "\n",
    "This can be a personal call, but it is good to at least filter out peptides with practically zero counts. \n",
    "\n",
    "**Why wouldn't I use a big rpk filter?**\n",
    "    As phip-seq is semi-quantitative, it is very possible that real autoantibody binding has very little expression in the phip-seq genomic read-out. There are examples of low-rpk peptides being externally validated, so if you are worried about missing anything I would be conservative with the rpk filter.\n",
    "\n",
    "**Why would I use a a big rpk filter?**\n",
    "    A lot of experimental noise is found in the low rpk hits, so filtering it out can help eliminate noise. Additionally, it is an easy way to reduce our peptide space which makes further computation easier. \n",
    "    "
   ]
  },
  {
   "cell_type": "code",
   "execution_count": 15,
   "id": "40e268d7-070d-4c5b-a66d-fa82282e6a28",
   "metadata": {},
   "outputs": [],
   "source": [
    "rpk_filter=25"
   ]
  },
  {
   "cell_type": "code",
   "execution_count": 16,
   "id": "44f9ff2d-acde-4025-b6ff-62e6fa8599fb",
   "metadata": {},
   "outputs": [
    {
     "data": {
      "text/plain": [
       "View of AnnData object with n_obs × n_vars = 8 × 2429\n",
       "    obs: 'IProunds', 'sick', 'healthy', 'study', 'fluid', 'experimenter', 'group', 'ng_input', 'notes'\n",
       "    uns: 'control_ids'\n",
       "    varm: 'X_control'\n",
       "    layers: 'FC_over_AG'"
      ]
     },
     "execution_count": 16,
     "metadata": {},
     "output_type": "execute_result"
    }
   ],
   "source": [
    "keeps=adata.var.index[adata.layers['FC_over_AG'].sum(axis=0)>rpk_filter]\n",
    "adata=adata[:,keeps]\n",
    "adata"
   ]
  },
  {
   "cell_type": "markdown",
   "id": "0c14dd88-be18-4578-83d3-07183fbf0c87",
   "metadata": {},
   "source": [
    "## testing plotting "
   ]
  },
  {
   "cell_type": "code",
   "execution_count": 59,
   "id": "0194397a-ff2a-4377-a43f-1b5dc78e577f",
   "metadata": {},
   "outputs": [],
   "source": [
    "import matplotlib.pyplot as plt\n",
    "from sklearn.decomposition import PCA\n",
    "import matplotlib as mpl\n",
    "\n",
    "def PCA_samples_2D(adata, layer_='FC_over_AG', raw=False):\n",
    "    \"\"\"\n",
    "    runs PCA for visualization on samples\n",
    "    \n",
    "    input:  - adata: data object\n",
    "            - layer_: the layer of rpk counts to use to perform dim reduction\n",
    "                       - default='FC_over_AG', the fold-change transformed RPK counts\n",
    "            - raw: if True, then use raw RPK counts to perform dim reduction\n",
    "                       - default=False\n",
    "    output: - principalDF: dataframe w/ shape samplesx2, with coordinates of each     sample in principal component space\n",
    "    \"\"\"\n",
    "    pca = PCA(n_components=2)\n",
    "    if raw is True:\n",
    "        principalComponents = pca.fit_transform(adata.X)\n",
    "    else:\n",
    "        principalComponents = pca.fit_transform(adata.layers[layer_])\n",
    "\n",
    "    principalDf = pd.DataFrame(data = principalComponents\n",
    "             , columns = ['principal component 1', 'principal component 2'], index = adata.obs.index)\n",
    "    return principalDf\n",
    "\n",
    "def plot_PCA_samples_2D(adata, layer_='FC_over_AG', raw=False, obs_key=None, print_title=None,\n",
    "                       obs_colors=None, save=False, save_title=None, save_dir=None, \n",
    "                       zoom=False, zoom_xlim=None, zoom_ylim=None):\n",
    "    \"\"\"\n",
    "    Runs dimensionality reduction with PCA and visualizes samples in 2D PCA space.\n",
    "    \n",
    "    Input:  - adata: data object\n",
    "            - layer_: the layer of rpk counts to use to perform dim reduction\n",
    "                       - default='FC_over_AG', the fold-change transformed RPK counts\n",
    "            - raw: if True, then use raw RPK counts to perform dim reduction\n",
    "                       - default=False\n",
    "            - (optional) obs_key: if you want to color samples by a category, \n",
    "                                  obs_key is the category variable in the adata object\n",
    "                       - eg, obs_key='disease' w/ adata.obs['disease']=['healthy','disease']\n",
    "            - (optional) obs_colors: if you want to color samples by a category, \n",
    "                                     this provides the colors. needs to be a list or \n",
    "                                     dict of length equal to the num of category values\n",
    "                                     in the obs_key command\n",
    "                       - eg, obs_key='disease', obs_colors=['blue','red']\n",
    "            - save: boolean directing matplotlib to save the plot, default=False\n",
    "            - (optional) save_title: title for plot\n",
    "            - (optional) save_dir: path where plot is saved\n",
    "    Output: 2D plot of PCA, which is optionally saved\n",
    "    \n",
    "    \"\"\"\n",
    "    ## run the PCA ##\n",
    "    principalDf=PCA_samples_2D(adata, layer_, raw)\n",
    "    \n",
    "    ## plot the PCA ## \n",
    "    fig = plt.figure(figsize = (8,8))\n",
    "    ax = fig.add_subplot(1,1,1) \n",
    "    ax.set_xlabel('Principal Component 1', fontsize = 15)\n",
    "    ax.set_ylabel('Principal Component 2', fontsize = 15)\n",
    "    \n",
    "    # if grouping\n",
    "    if obs_key:\n",
    "        targets = adata.obs[obs_key].unique()\n",
    "        \n",
    "        #make color dict if not passed\n",
    "        if not obs_colors: \n",
    "            n=len(targets)\n",
    "            colors=mpl.cm.Set1.colors[:n] # Set1 is default palette\n",
    "        else:\n",
    "            colors=obs_colors\n",
    "            \n",
    "        for target, color in zip(targets,colors):\n",
    "            indicesToKeep = adata.obs.index[adata.obs[obs_key] == target]\n",
    "            ax.scatter(principalDf.loc[indicesToKeep, 'principal component 1'],\n",
    "                       principalDf.loc[indicesToKeep, 'principal component 2'],\n",
    "                       color = color,\n",
    "                       s = 50)\n",
    "        \n",
    "        ax.legend(targets)\n",
    "\n",
    "    #if not grouping\n",
    "    else:\n",
    "        ax.scatter(principalDf.loc[:,'principal component 1'],\n",
    "                   principalDf.loc[:,'principal component 2'], \n",
    "                  color = 'r',\n",
    "                  s= 50)\n",
    "    \n",
    "    # if zoom\n",
    "    if zoom:\n",
    "        ax.set_xlim(zoom_xlim)\n",
    "        ax.set_ylim(zoom_ylim)\n",
    "    \n",
    "    if print_title:\n",
    "        ax.set_title(print_title,fontsize=25)\n",
    "    \n",
    "    if save:\n",
    "        plt.savefig(save_dir+save_title)\n",
    "    \n",
    "    plt.show()"
   ]
  },
  {
   "cell_type": "code",
   "execution_count": 62,
   "id": "f80e7995-712b-46ee-a756-b533b1ed5409",
   "metadata": {},
   "outputs": [
    {
     "data": {
      "image/png": "[encoded data removed]",
      "text/plain": [
       "<Figure size 576x576 with 1 Axes>"
      ]
     },
     "metadata": {
      "needs_background": "light"
     },
     "output_type": "display_data"
    }
   ],
   "source": [
    "plot_PCA_samples_2D(adata, obs_key='group', print_title='2D PCA Test',save=True, \n",
    "                    save_dir='/Users/haleighmiller/phagepy_dev/tutorials/',\n",
    "                   save_title='testpca.png')"
   ]
  },
  {
   "cell_type": "code",
   "execution_count": 64,
   "id": "eae0324c-ebf6-4f97-843d-c6eba07b68b6",
   "metadata": {},
   "outputs": [
    {
     "data": {
      "text/plain": [
       "pandas.core.frame.DataFrame"
      ]
     },
     "execution_count": 64,
     "metadata": {},
     "output_type": "execute_result"
    }
   ],
   "source": [
    "type(pd.DataFrame(adata.obs))"
   ]
  },
  {
   "cell_type": "code",
   "execution_count": 31,
   "id": "3eead289-93f4-4854-b86d-44303837d2ac",
   "metadata": {},
   "outputs": [
    {
     "data": {
      "text/html": [
       "<div>\n",
       "<style scoped>\n",
       "    .dataframe tbody tr th:only-of-type {\n",
       "        vertical-align: middle;\n",
       "    }\n",
       "\n",
       "    .dataframe tbody tr th {\n",
       "        vertical-align: top;\n",
       "    }\n",
       "\n",
       "    .dataframe thead th {\n",
       "        text-align: right;\n",
       "    }\n",
       "</style>\n",
       "<table border=\"1\" class=\"dataframe\">\n",
       "  <thead>\n",
       "    <tr style=\"text-align: right;\">\n",
       "      <th></th>\n",
       "      <th>IProunds</th>\n",
       "      <th>sick</th>\n",
       "      <th>healthy</th>\n",
       "      <th>study</th>\n",
       "      <th>fluid</th>\n",
       "      <th>experimenter</th>\n",
       "      <th>group</th>\n",
       "      <th>ng_input</th>\n",
       "      <th>notes</th>\n",
       "    </tr>\n",
       "  </thead>\n",
       "  <tbody>\n",
       "    <tr>\n",
       "      <th>CMB-NID-624_S4_L001_R1_001</th>\n",
       "      <td>2</td>\n",
       "      <td>no</td>\n",
       "      <td>NaN</td>\n",
       "      <td>NID</td>\n",
       "      <td>CSF</td>\n",
       "      <td>CMB</td>\n",
       "      <td>HU</td>\n",
       "      <td>NaN</td>\n",
       "      <td>NaN</td>\n",
       "    </tr>\n",
       "    <tr>\n",
       "      <th>NID-624_S8_L001_R1_001</th>\n",
       "      <td>2</td>\n",
       "      <td>no</td>\n",
       "      <td>NaN</td>\n",
       "      <td>NID</td>\n",
       "      <td>CSF</td>\n",
       "      <td>CMB</td>\n",
       "      <td>HU</td>\n",
       "      <td>NaN</td>\n",
       "      <td>NaN</td>\n",
       "    </tr>\n",
       "    <tr>\n",
       "      <th>NID_624_CSF_2_rnd3_S34_L005_R1_001</th>\n",
       "      <td>3</td>\n",
       "      <td>no</td>\n",
       "      <td>NaN</td>\n",
       "      <td>NID</td>\n",
       "      <td>CSF</td>\n",
       "      <td>CMB</td>\n",
       "      <td>HU</td>\n",
       "      <td>NaN</td>\n",
       "      <td>NaN</td>\n",
       "    </tr>\n",
       "    <tr>\n",
       "      <th>NID_624_CSF_rnd3_S33_L005_R1_001</th>\n",
       "      <td>3</td>\n",
       "      <td>no</td>\n",
       "      <td>NaN</td>\n",
       "      <td>NID</td>\n",
       "      <td>CSF</td>\n",
       "      <td>CMB</td>\n",
       "      <td>HU</td>\n",
       "      <td>NaN</td>\n",
       "      <td>NaN</td>\n",
       "    </tr>\n",
       "    <tr>\n",
       "      <th>080517-GFAP_S7_L001_R1_001</th>\n",
       "      <td>2</td>\n",
       "      <td>no</td>\n",
       "      <td>NaN</td>\n",
       "      <td>NID</td>\n",
       "      <td>NaN</td>\n",
       "      <td>CMB</td>\n",
       "      <td>GFAP</td>\n",
       "      <td>NaN</td>\n",
       "      <td>NaN</td>\n",
       "    </tr>\n",
       "    <tr>\n",
       "      <th>080617-GFAP_S4_L001_R1_001</th>\n",
       "      <td>2</td>\n",
       "      <td>no</td>\n",
       "      <td>NaN</td>\n",
       "      <td>NID</td>\n",
       "      <td>NaN</td>\n",
       "      <td>CMB</td>\n",
       "      <td>GFAP</td>\n",
       "      <td>NaN</td>\n",
       "      <td>NaN</td>\n",
       "    </tr>\n",
       "    <tr>\n",
       "      <th>CMB-GFAP_S10_L001_R1_001</th>\n",
       "      <td>2</td>\n",
       "      <td>no</td>\n",
       "      <td>NaN</td>\n",
       "      <td>NID</td>\n",
       "      <td>NaN</td>\n",
       "      <td>CMB</td>\n",
       "      <td>GFAP</td>\n",
       "      <td>NaN</td>\n",
       "      <td>NaN</td>\n",
       "    </tr>\n",
       "    <tr>\n",
       "      <th>030817-A6-TUB_S6_L001_R1_001</th>\n",
       "      <td>2</td>\n",
       "      <td>no</td>\n",
       "      <td>NaN</td>\n",
       "      <td>NID</td>\n",
       "      <td>NaN</td>\n",
       "      <td>CMB</td>\n",
       "      <td>TUB</td>\n",
       "      <td>NaN</td>\n",
       "      <td>NaN</td>\n",
       "    </tr>\n",
       "  </tbody>\n",
       "</table>\n",
       "</div>"
      ],
      "text/plain": [
       "                                    IProunds sick  healthy study fluid  \\\n",
       "CMB-NID-624_S4_L001_R1_001                 2   no      NaN   NID   CSF   \n",
       "NID-624_S8_L001_R1_001                     2   no      NaN   NID   CSF   \n",
       "NID_624_CSF_2_rnd3_S34_L005_R1_001         3   no      NaN   NID   CSF   \n",
       "NID_624_CSF_rnd3_S33_L005_R1_001           3   no      NaN   NID   CSF   \n",
       "080517-GFAP_S7_L001_R1_001                 2   no      NaN   NID   NaN   \n",
       "080617-GFAP_S4_L001_R1_001                 2   no      NaN   NID   NaN   \n",
       "CMB-GFAP_S10_L001_R1_001                   2   no      NaN   NID   NaN   \n",
       "030817-A6-TUB_S6_L001_R1_001               2   no      NaN   NID   NaN   \n",
       "\n",
       "                                   experimenter group  ng_input  notes  \n",
       "CMB-NID-624_S4_L001_R1_001                  CMB    HU       NaN    NaN  \n",
       "NID-624_S8_L001_R1_001                      CMB    HU       NaN    NaN  \n",
       "NID_624_CSF_2_rnd3_S34_L005_R1_001          CMB    HU       NaN    NaN  \n",
       "NID_624_CSF_rnd3_S33_L005_R1_001            CMB    HU       NaN    NaN  \n",
       "080517-GFAP_S7_L001_R1_001                  CMB  GFAP       NaN    NaN  \n",
       "080617-GFAP_S4_L001_R1_001                  CMB  GFAP       NaN    NaN  \n",
       "CMB-GFAP_S10_L001_R1_001                    CMB  GFAP       NaN    NaN  \n",
       "030817-A6-TUB_S6_L001_R1_001                CMB   TUB       NaN    NaN  "
      ]
     },
     "execution_count": 31,
     "metadata": {},
     "output_type": "execute_result"
    }
   ],
   "source": [
    "adata.obs"
   ]
  }
 ],
 "metadata": {
  "kernelspec": {
   "display_name": "Python 3 (ipykernel)",
   "language": "python",
   "name": "python3"
  },
  "language_info": {
   "codemirror_mode": {
    "name": "ipython",
    "version": 3
   },
   "file_extension": ".py",
   "mimetype": "text/x-python",
   "name": "python",
   "nbconvert_exporter": "python",
   "pygments_lexer": "ipython3",
   "version": "3.9.7"
  }
 },
 "nbformat": 4,
 "nbformat_minor": 5
}
